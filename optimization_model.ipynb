{
 "cells": [
  {
   "cell_type": "markdown",
   "id": "5a2891f6",
   "metadata": {},
   "source": [
    "# Optimization Model: Production Planning Example"
   ]
  },
  {
   "cell_type": "markdown",
   "id": "db9b9865",
   "metadata": {},
   "source": [
    "## Problem Description\n",
    "\n",
    "A factory makes two products (A and B). Each requires machine time and labor.\n",
    "\n",
    "- Product A needs 3 hours of machine time and 2 hours of labor per unit.\n",
    "- Product B needs 2 hours of machine time and 4 hours of labor per unit.\n",
    "- The factory has 120 machine hours and 160 labor hours available.\n",
    "- Profit: $40 per unit of A, $50 per unit of B.\n",
    "\n",
    "**Goal:** Maximize profit by choosing how many units of A and B to produce.\n"
   ]
  },
  {
   "cell_type": "markdown",
   "id": "c4073af8",
   "metadata": {},
   "source": [
    "## Mathematical Model\n",
    "\n",
    "**Decision variables**  \n",
    "- x_A = units of product A  \n",
    "- x_B = units of product B  \n",
    "\n",
    "**Objective**  \n",
    "- Maximize profit: 40x_A + 50x_B\n",
    "\n",
    "**Constraints**  \n",
    "- Machine time: 3x_A + 2x_B ≤ 120  \n",
    "- Labor time: 2x_A + 4x_B ≤ 160  \n",
    "- x_A, x_B ≥ 0\n"
   ]
  },
  {
   "cell_type": "code",
   "execution_count": null,
   "id": "e4e05fd1",
   "metadata": {},
   "outputs": [],
   "source": [
    "!pip install pulp\n"
   ]
  },
  {
   "cell_type": "code",
   "execution_count": null,
   "id": "d7803ba6",
   "metadata": {},
   "outputs": [],
   "source": [
    "import pulp\n",
    "\n",
    "# Create LP problem\n",
    "model = pulp.LpProblem(\"Maximize_Profit\", pulp.LpMaximize)\n",
    "\n",
    "# Decision variables\n",
    "x_A = pulp.LpVariable('Product_A', lowBound=0, cat='Continuous')\n",
    "x_B = pulp.LpVariable('Product_B', lowBound=0, cat='Continuous')\n",
    "\n",
    "# Objective function\n",
    "model += 40 * x_A + 50 * x_B, \"Total_Profit\"\n",
    "\n",
    "# Constraints\n",
    "model += 3 * x_A + 2 * x_B <= 120, \"Machine_Time\"\n",
    "model += 2 * x_A + 4 * x_B <= 160, \"Labor_Time\"\n",
    "\n",
    "# Solve\n",
    "model.solve()\n",
    "\n",
    "# Display results\n",
    "print(f\"Status: {pulp.LpStatus[model.status]}\")\n",
    "print(f\"Optimal production of Product A: {x_A.varValue}\")\n",
    "print(f\"Optimal production of Product B: {x_B.varValue}\")\n",
    "print(f\"Total Profit: ${pulp.value(model.objective)}\")\n"
   ]
  },
  {
   "cell_type": "markdown",
   "id": "b9c6403c",
   "metadata": {},
   "source": [
    "## Results\n",
    "\n",
    "The optimal production plan tells us how many units of each product to make to maximize profit without exceeding available machine and labor hours.\n",
    "\n",
    "Check the printed solution above for exact numbers.\n"
   ]
  },
  {
   "cell_type": "markdown",
   "id": "1a0dfcb3",
   "metadata": {},
   "source": [
    "## Insights\n",
    "\n",
    "- The solution provides a production plan maximizing profit while satisfying resource constraints.\n",
    "- Management can use this recommendation for production scheduling.\n",
    "- The approach is general and can be adapted to more complex scenarios with additional products or resources.\n"
   ]
  }
 ],
 "metadata": {
  "language_info": {
   "name": "python"
  }
 },
 "nbformat": 4,
 "nbformat_minor": 5
}
